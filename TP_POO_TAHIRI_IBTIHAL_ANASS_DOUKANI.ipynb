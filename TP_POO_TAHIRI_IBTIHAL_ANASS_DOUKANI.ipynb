{
 "cells": [
  {
   "cell_type": "markdown",
   "metadata": {
    "id": "COkOID3aHUXm"
   },
   "source": [
    "# TP - Programmation orientée objet\n",
    "\n",
    "Au cours de ce tp, plusieurs exercices vous sont proposés, ces derniers couvrant l'essentiel des notions attendues à l'examen. Il est donc vivement conseille de profiter des deux dernières séances pour poser les questions qui reviennent lors de vos entraînements. Un niveau de difficulté est donné à titre indicatif pour chaque exercice."
   ]
  },
  {
   "cell_type": "markdown",
   "metadata": {
    "id": "W0ZN6v4THUX7"
   },
   "source": [
    "## Chaine de travail - Facile (1 point)\n",
    "\n",
    "\n",
    "Définir les classes suivantes:\n",
    "\n",
    "- Une classe DateNaissance avec trois attributs, jour, mois, année et une méthode ToString qui convertit la date de naissance en chaine de caractères\n",
    "- Une classe Personne  avec trois attributs, nom, prénom et date de naissance et une méthode polymorphe Afficher pour afficher les données de chaque personne.\n",
    "- Une classe Employé qui dérive de la classe Personne, avec en plus un attribut Salaire et la redéfinition de la méthode Afficher.\n",
    "- Une classe Chef qui dérive de la classe Employé, avec en plus un attribut Service et la redéfinition de la méthode Afficher.\n"
   ]
  },
  {
   "cell_type": "code",
   "execution_count": 1,
   "metadata": {
    "id": "IBZ5Zko5HUX_"
   },
   "outputs": [],
   "source": [
    "#On crée la classe DateNaissance avec ses attributs \n",
    "class DateNaissance :\n",
    "    def __init__(self, jour,mois,annee) :\n",
    "        self.j = jour\n",
    "        self.m = mois\n",
    "        self.a = annee\n",
    "        \n",
    "#On crée la méthode Tostring qui convertit la DateNaissance en chaine de caractères \n",
    "\n",
    "    def ToString(self):\n",
    "    \n",
    "#On concaténe les chaines pour former la date de naissance en chaine de caractères \n",
    "                return('C est la date de naissance {}_{}_{}'.format( str(self.j),str(self.m),str(self.a)))\n",
    "\n",
    "#Nous avons crée la classe Personne \n",
    "class Personne :\n",
    "#Constructeur de la classe Personne qui permet d'initialiser une instance personne en utilisant la classe date de naissance \n",
    "    def __init__(self, nom,prénom,j,m,a) :\n",
    "        self.no = nom\n",
    "        self.pr = prénom\n",
    "        self.dn =DateNaissance(j,m,a) \n",
    "\n",
    "#la methode Afficher permet d'afficher les informations d'une personne        \n",
    "    def Afficher(self):\n",
    "        print(\"C'est la personne avec le nom {} et prenom {} ayant la date de naissance {}).\".format(self.no, self.pr,self.dn.ToString()))\n",
    "\n",
    "#Nous avons crée une classe Employe qui herite de la class Personne\n",
    "class Employe (Personne) :  \n",
    "\n",
    "#Contructeur de la class Employe permet d'initialiser une instance Emmploye en heritant du constructeur de sa classe mere Personne\n",
    "    def __init__(self, nom,prénom,j,m,a,Salaire):\n",
    "        super().__init__(nom,prénom,j,m,a)\n",
    "        self.sal = Salaire\n",
    "\n",
    "#la methode Afficher permet d'afficher les informations d'un employe  \n",
    "    def Afficher(self):\n",
    "        print(\"C'est l'emlpoyé  avec le nom {} et prenom {} ayant la date de naissance {} et le salaire {}.\".format(self.no, self.pr,self.dn.ToString(),self.sal))\n",
    "\n",
    "#Nous avons crée une classe Chef qui herite de la class Employe\n",
    "class Chef (Employe) :  \n",
    "#Contructeur de la class Chef permet d'initialiser une instance Chef en heritant du constructeur de sa classe mere Employe\n",
    "    def __init__(self, nom,prénom,j,m,a,Salaire,Service):\n",
    "        super().__init__(nom,prénom,j,m,a,Salaire)\n",
    "        self.ser = Service\n",
    "        \n",
    "#la methode Afficher permet d'afficher les informations d'un employe chef  \n",
    "    def Afficher(self):\n",
    "        print(\"C'est le chef  avec le nom {} et prenom {} ayant la date de naissance {} et le salaire {} et travaille au service {}.\".format(self.no, self.pr,self.dn.ToString(),self.sal,self.ser))"
   ]
  },
  {
   "cell_type": "code",
   "execution_count": 2,
   "metadata": {},
   "outputs": [
    {
     "name": "stdout",
     "output_type": "stream",
     "text": [
      "C'est le chef  avec le nom lala et prenom lolo ayant la date de naissance C est la date de naissance 10_1_66 et le salaire 22222 et travaille au service lalilili.\n"
     ]
    }
   ],
   "source": [
    "#le=DateNaissance(10,1,1997)\n",
    "#print(le.ToString())\n",
    "bety=Chef('lala','lolo',10,1,66,22222,'lalilili')\n",
    "bety.Afficher()\n",
    "\n",
    "\n",
    "#me.Tostring()\n",
    "#print(\"mon mois de naissance est {}\".format(me.m))\n",
    "#print(\"mon jour de naissance est {}\".format(me.j))\n",
    "#print(\"mon année de naissance est {}\".format(me.a))\n",
    "\n",
    "\n"
   ]
  },
  {
   "cell_type": "markdown",
   "metadata": {
    "id": "Czmv-FSQHUYM"
   },
   "source": [
    "##### Retour sur le point - Facile (1 point)\n",
    "\n",
    "Définir une classe Point caractérisée par son abscisse et son ordonnée avec constructeur avec coordonnées (1, 1) par défaut. Définir à l’aide des méthodes de lecture et modification des attributs en question, ainsi qu'une méthode Distance qui retourne la distance entre le point P1 et le point en cours.\n",
    "\n",
    "#### Rappel\n",
    "\n",
    "Soit un point __A__ de coordonnées $(x_A,y_A)$ et un point __B__ de coordonnées $(x_B,y_B)$. La distance entre a et b est donnée par la formule:\n",
    "\n",
    "$$ AB = \\sqrt{(x_B-x_A)^2+(y_B-y_A)^2}$$\n",
    "\n",
    "Tester pour finir en instanciant deux objets  P1 et P2."
   ]
  },
  {
   "cell_type": "code",
   "execution_count": 3,
   "metadata": {
    "id": "ijjw9LqVHUYO"
   },
   "outputs": [],
   "source": [
    "#Nous avons définit classe Point\n",
    "class Point :\n",
    "\n",
    "#Constructeur de la classe Point permet d'initialiser des instances objet type Point avec les coordonnées (1,1) par défaut\n",
    "    def __init__(self) :\n",
    "        self.abs = 1\n",
    "        self.ord = 1\n",
    "\n",
    "#Methode getters qui permet de nous retourner la coordonnée d'abscisse du Point en crous\n",
    "    def get_x(self):\n",
    "        return  (self.abs) \n",
    "    \n",
    "#Methode getters qui permet de nous retourner la coordonnée d'ordonnée du Point en cours\n",
    "    def get_y(self):\n",
    "        return( self.ord)\n",
    "    \n",
    "#Methode setters qui permet de modifier la valeur de la coordonnée d'abscisse du Point en cours\n",
    "    def set_x(self, x1):\n",
    "        self.abs=x1 \n",
    "    \n",
    "#Methode setters qui permet de modifier la valeur de la coordonnée d'ordonnée du Point en cours\n",
    "    def set_y(self, y1):\n",
    "        self.ord=y1\n",
    "\n",
    "#Distance une methode qui retourne la distance entre le point p1 et le point en cours       \n",
    "    def Distance(self,p1):\n",
    "        return('la dsitance entre les deux points est {}'.format(pow((pow(p1.abs-self.abs,2)+pow(p1.ord-self.ord,2)),0.5)))\n",
    "            "
   ]
  },
  {
   "cell_type": "code",
   "execution_count": 4,
   "metadata": {},
   "outputs": [
    {
     "data": {
      "text/plain": [
       "'la dsitance entre les deux points est 7.0710678118654755'"
      ]
     },
     "execution_count": 4,
     "metadata": {},
     "output_type": "execute_result"
    }
   ],
   "source": [
    "P1=Point()\n",
    "\n",
    "#lolo.Distance(2,8)\n",
    "\n",
    "P2=Point()\n",
    "P2.set_x(2)\n",
    "P2.set_y(8)\n",
    "P1.Distance(P2)"
   ]
  },
  {
   "cell_type": "markdown",
   "metadata": {
    "id": "JrRjfxpeHUYU"
   },
   "source": [
    "## Dominos - Moyen (3 points)\n",
    "\n",
    "Définir une classe Domino qui aura 2 méthodes:\n",
    "\n",
    "- affiche_points -> Affiche le domino\n",
    "- valeur -> Donne la somme des points du domino\n",
    "\n",
    "Instancier cette classe et utilise ses méthodes en créant 2 dominos [2,6] et [4,3]. Enfin, créer une liste de 7 dominos [6, valeur de 1 à 6] qui les affiche puis indique la somme de l’ensemble."
   ]
  },
  {
   "cell_type": "code",
   "execution_count": 5,
   "metadata": {
    "id": "DHwGlzGjHUYV"
   },
   "outputs": [],
   "source": [
    "#Création de la classe Dominos\n",
    "class Domino :\n",
    "\n",
    "#Constructeur de la classe Domino qui permet d'instancier des objets de type Domino\n",
    "    def __init__(self,a,b):\n",
    "        self.point=a\n",
    "        self.val=b\n",
    "\n",
    "#Methode qui affiche le Domino en cours\n",
    "    def affiche_points(self):\n",
    "        print(\"C'est le Domino Numero {}.\".format(self.point))\n",
    "        \n",
    "#Methode qui donne la somme des points du Domino en cours\n",
    "    def valeur(self):\n",
    "        return(\"C'est le Domino ayant la somme des points {}.\".format(self.val))\n",
    "    \n",
    "    \n",
    "     "
   ]
  },
  {
   "cell_type": "code",
   "execution_count": 6,
   "metadata": {},
   "outputs": [
    {
     "name": "stdout",
     "output_type": "stream",
     "text": [
      "[6,1]\n",
      "[6,4]\n",
      "[6,4]\n",
      "[6,5]\n",
      "[6,4]\n",
      "[6,3]\n",
      "[6,6]\n",
      "voila la somme de valeur des 7 dominos est 27 \n"
     ]
    }
   ],
   "source": [
    "from random import randrange\n",
    "#table =[Domino(6,1+radrange(6)),Domino(6,1+radrange(6)),Domino(6,1+radrange(6)),Domino(6,1+radrange(6)),Domino(6,1+radrange(6)),Domino(6,1+radrange(6)),Domino(6,1+radrange(6))]         \n",
    "objs = []\n",
    "som=0\n",
    "# on va afficher la liste des 7 dominos en meme temps on va calculer la somme des valeurs\n",
    "for i in range(7):\n",
    "    x=1+randrange(6)\n",
    "    objs.append(Domino(6,x))\n",
    "    som+=objs[i].val\n",
    "    print(\"[{},{}]\".format(objs[i].point,objs[i].val))\n",
    "    \n",
    "# on va afficher la somme de valeurs des 7 dominos \n",
    "    \n",
    "print(\"voila la somme de valeur des 7 dominos est {} \".format(som))\n"
   ]
  },
  {
   "cell_type": "markdown",
   "metadata": {
    "id": "a7ETFWAAHUYW"
   },
   "source": [
    "## UNO - Moyen (3 points)\n",
    "\n",
    "Définir une classe Uno qui implémente le jeu de cartes en question. Il nous faut également des méthodes pour tirer une carte, les mélanger et les afficher.\n",
    "\n",
    "Utiliser la bibliothèque random au moment opportun."
   ]
  },
  {
   "cell_type": "code",
   "execution_count": 329,
   "metadata": {},
   "outputs": [],
   "source": [
    "from random import randint\n",
    "\n",
    "\n",
    "class UNO:\n",
    "        def __inti__(self):          \n",
    "            self.deck=[]\n",
    "        def __str__(self):\n",
    "        \n",
    "            for i in range (0, len(self.deck)):\n",
    "                col_str = col_str + ' ' + str(self.deck[i])\n",
    "            return col_str\n",
    "        \n",
    "        def __str__(self):\n",
    "            colors=[\"green\",\"yellow\" ,\"blue\",\"red\"]\n",
    "            values=[0,1,2,3,4,5,6,7,8,9,\"DRAW TWO\",\"REVERSE\",\"SKIP\"]\n",
    "            wilds=[\"wild\",\"drawfour\"]\n",
    "            for i in colors:\n",
    "                for j in values: \n",
    "                    cardvalues=(\"{} {}\".format(i,j))\n",
    "                    deck.append(cardvalues)\n",
    "                    if j!=0 :\n",
    "                        deck.append(cardvalues)\n",
    "            for k in range(4):\n",
    "                deck.append(wilds[0])\n",
    "                deck.append(wilds[1])\n",
    "            print(deck)\n",
    "            return (deck)\n",
    "    \n",
    "def shufflecards(self,deck):\n",
    "    for cardpos in range(len(deck)):\n",
    "        randpos= random.randint(0,107)\n",
    "        deck[cardpos],deck[randpos]=deck[randpos], deck[cardpos]\n",
    "    return (deck) \n",
    "\n",
    "  \n",
    "def drawcards(self,numbercards):\n",
    "    drawncards=[]\n",
    "    for i in range (numbercards):\n",
    "        drawncards.append(deck.pop(0))\n",
    "    return drawncards\n",
    "        \n",
    "            \n",
    "             \n",
    "         "
   ]
  },
  {
   "cell_type": "code",
   "execution_count": 330,
   "metadata": {},
   "outputs": [
    {
     "ename": "NameError",
     "evalue": "name 'deck' is not defined",
     "output_type": "error",
     "traceback": [
      "\u001b[1;31m---------------------------------------------------------------------------\u001b[0m",
      "\u001b[1;31mNameError\u001b[0m                                 Traceback (most recent call last)",
      "\u001b[1;32m<ipython-input-330-94530d4b6dca>\u001b[0m in \u001b[0;36m<module>\u001b[1;34m\u001b[0m\n\u001b[0;32m      1\u001b[0m \u001b[0mp\u001b[0m\u001b[1;33m=\u001b[0m\u001b[0mUNO\u001b[0m\u001b[1;33m(\u001b[0m\u001b[1;33m)\u001b[0m\u001b[1;33m\u001b[0m\u001b[1;33m\u001b[0m\u001b[0m\n\u001b[1;32m----> 2\u001b[1;33m \u001b[0mp\u001b[0m\u001b[1;33m.\u001b[0m\u001b[0m__str__\u001b[0m\u001b[1;33m(\u001b[0m\u001b[1;33m)\u001b[0m\u001b[1;33m\u001b[0m\u001b[1;33m\u001b[0m\u001b[0m\n\u001b[0m\u001b[0;32m      3\u001b[0m \u001b[1;33m\u001b[0m\u001b[0m\n\u001b[0;32m      4\u001b[0m \u001b[1;33m\u001b[0m\u001b[0m\n\u001b[0;32m      5\u001b[0m \u001b[1;33m\u001b[0m\u001b[0m\n",
      "\u001b[1;32m<ipython-input-329-21a9e496b507>\u001b[0m in \u001b[0;36m__str__\u001b[1;34m(self)\u001b[0m\n\u001b[0;32m     18\u001b[0m                 \u001b[1;32mfor\u001b[0m \u001b[0mj\u001b[0m \u001b[1;32min\u001b[0m \u001b[0mvalues\u001b[0m\u001b[1;33m:\u001b[0m\u001b[1;33m\u001b[0m\u001b[1;33m\u001b[0m\u001b[0m\n\u001b[0;32m     19\u001b[0m                     \u001b[0mcardvalues\u001b[0m\u001b[1;33m=\u001b[0m\u001b[1;33m(\u001b[0m\u001b[1;34m\"{} {}\"\u001b[0m\u001b[1;33m.\u001b[0m\u001b[0mformat\u001b[0m\u001b[1;33m(\u001b[0m\u001b[0mi\u001b[0m\u001b[1;33m,\u001b[0m\u001b[0mj\u001b[0m\u001b[1;33m)\u001b[0m\u001b[1;33m)\u001b[0m\u001b[1;33m\u001b[0m\u001b[1;33m\u001b[0m\u001b[0m\n\u001b[1;32m---> 20\u001b[1;33m                     \u001b[0mdeck\u001b[0m\u001b[1;33m.\u001b[0m\u001b[0mappend\u001b[0m\u001b[1;33m(\u001b[0m\u001b[0mcardvalues\u001b[0m\u001b[1;33m)\u001b[0m\u001b[1;33m\u001b[0m\u001b[1;33m\u001b[0m\u001b[0m\n\u001b[0m\u001b[0;32m     21\u001b[0m                     \u001b[1;32mif\u001b[0m \u001b[0mj\u001b[0m\u001b[1;33m!=\u001b[0m\u001b[1;36m0\u001b[0m \u001b[1;33m:\u001b[0m\u001b[1;33m\u001b[0m\u001b[1;33m\u001b[0m\u001b[0m\n\u001b[0;32m     22\u001b[0m                         \u001b[0mdeck\u001b[0m\u001b[1;33m.\u001b[0m\u001b[0mappend\u001b[0m\u001b[1;33m(\u001b[0m\u001b[0mcardvalues\u001b[0m\u001b[1;33m)\u001b[0m\u001b[1;33m\u001b[0m\u001b[1;33m\u001b[0m\u001b[0m\n",
      "\u001b[1;31mNameError\u001b[0m: name 'deck' is not defined"
     ]
    }
   ],
   "source": [
    "p=UNO()\n",
    "p.__str__()\n",
    "\n",
    "\n",
    "\n",
    "\n",
    "\n",
    "            "
   ]
  },
  {
   "cell_type": "code",
   "execution_count": 313,
   "metadata": {},
   "outputs": [
    {
     "ename": "AttributeError",
     "evalue": "'list' object has no attribute 'shufflecards'",
     "output_type": "error",
     "traceback": [
      "\u001b[1;31m---------------------------------------------------------------------------\u001b[0m",
      "\u001b[1;31mAttributeError\u001b[0m                            Traceback (most recent call last)",
      "\u001b[1;32m<ipython-input-313-9a57fe0db1a4>\u001b[0m in \u001b[0;36m<module>\u001b[1;34m\u001b[0m\n\u001b[1;32m----> 1\u001b[1;33m \u001b[0ml\u001b[0m\u001b[1;33m=\u001b[0m\u001b[0ma\u001b[0m\u001b[1;33m.\u001b[0m\u001b[0mshufflecards\u001b[0m\u001b[1;33m(\u001b[0m\u001b[0ma\u001b[0m\u001b[1;33m)\u001b[0m\u001b[1;33m\u001b[0m\u001b[1;33m\u001b[0m\u001b[0m\n\u001b[0m",
      "\u001b[1;31mAttributeError\u001b[0m: 'list' object has no attribute 'shufflecards'"
     ]
    }
   ],
   "source": [
    "l=a.shufflecards(a)"
   ]
  },
  {
   "cell_type": "markdown",
   "metadata": {
    "id": "4J0YuN7JHUYd"
   },
   "source": [
    "## Paires de réels et surcharge - Moyen (7 Points)\n",
    "\n",
    "En XIX siècle Clifford a inventé un autre corps numérique, les nombres duals, un peu plus simple ; un nombre dual p est une paire de réels a et b, écrit comme p = a + b  avec les règles arithmétiques typiques (par exemple on ajoute séparément les composantes réelle et duale). L’unité duale ε est irréductible, indépendante des réels (comme l’unité imaginaire dans le monde des nombres complexes), mais elle respecte l’identité : ε^2 = 0. \n",
    "\n",
    "Donc, $(a + b ε) \\times (x + y ε) = ax + (ay + bx) ε$. \n",
    "\n",
    "Écrire en Python une classe qui représente de tels nombres, avec les méthodes standard : __init__, et les quatres opérations arithmétiques : + - * /. Pour la division, vérifier que (a+b ε)·(a−b ε) est un nombre réel, et coder-là de manière similaire à des nombres complexes. \n",
    "\n",
    "La méthode __init__ doit pouvoir prendre 1 ou deux arguments, dans le cas d’un seul, le coefficient de ε est considéré nul. "
   ]
  },
  {
   "cell_type": "code",
   "execution_count": 7,
   "metadata": {
    "id": "pEzx6iU7HUYe"
   },
   "outputs": [],
   "source": [
    "# Création de la classe Dual qui instance des objets contiennent des nombres duals\n",
    "class Duals:\n",
    "    \n",
    "#Constructeur de la classe Duals permet d'instancier les objets de type Duals avec un argument par défaut si n'est pas indiqué\n",
    "    def __init__(self, a, b=0):\n",
    "        self.a = a\n",
    "        self.b = b\n",
    "\n",
    "#Methode qui retourne le resultat de l'addition entre le Duals d et le Duals en cours  \n",
    "    def plus(self, d):\n",
    "        r = Duals(self.a + d.a, self.b + d.b)\n",
    "        return r\n",
    "    \n",
    "#Methode qui retourne le resultat de la soustraction entre le Duals d et le Duals en cours  \n",
    "    def minus(self, d):\n",
    "        r = Duals(self.a - d.a, self.b - d.b)\n",
    "        return r\n",
    "    \n",
    "#Methode qui retourne le resultat de la multiplication entre le Duals d et le Duals en cours  \n",
    "    def times(self, d):\n",
    "        r = Duals(self.a*d.a, (self.a*d.b)+(self.b*d.a))\n",
    "        return r\n",
    "    \n",
    "#Methode qui retourne le resultat de la division entre le Duals d et le Duals en cours  \n",
    "    def divided(self, d):\n",
    "        r = self.times(Duals(1/d.a,-d.b/(d.a*d.a)))\n",
    "        return r\n",
    "    \n",
    "#Methode qui affiche le nombre Duals en cours sous forme a + bε\n",
    "    def __str__(self):\n",
    "        print(\"{} + {}ε\".format(self.a,self.b))"
   ]
  },
  {
   "cell_type": "code",
   "execution_count": 8,
   "metadata": {},
   "outputs": [
    {
     "name": "stdout",
     "output_type": "stream",
     "text": [
      "2 + 4ε\n",
      "2 + 1ε\n",
      "1.0 + 1.5ε\n"
     ]
    }
   ],
   "source": [
    "a = Duals(2,4)\n",
    "b=Duals(2,1)\n",
    "c=a.divided(b)\n",
    "a.__str__()\n",
    "b.__str__()\n",
    "c.__str__()"
   ]
  },
  {
   "cell_type": "markdown",
   "metadata": {
    "id": "tD3c3HCdHUYe"
   },
   "source": [
    "## LIFO - Last In First Out - Difficile (5 points) \n",
    "\n",
    "Implanter une classe Lifo, soit une \"pile\" dans lequel le dernier élément à y être placé et le premier à sortir (cf  https://fr.wikipedia.org/wiki/Last_in,_first_out) et utilisant les listes comme structure de données interne. Elle doit hériter obligatoirement de:"
   ]
  },
  {
   "cell_type": "code",
   "execution_count": 90,
   "metadata": {
    "id": "fXkdUTq7HUYf"
   },
   "outputs": [],
   "source": [
    "import queue\n",
    "#Création de la classe LIFO qui permet la gestion des données dans une mémoire de type LIFO\n",
    "class LIFO:\n",
    "\n",
    "#Constructeur de la classe LIFO permet d'instancier une mémoire (pile)\n",
    "    def __init__(self,dim):\n",
    "        self.q = queue.LifoQueue(dim)\n",
    "\n",
    "#Methode qui retourne vrais si la pile est vide\n",
    "    def isEmpty(self):\n",
    "            return(self.q.empty())\n",
    "        \n",
    "#Methode qui retourne vrais si la pile est pleine\n",
    "    def isFull(self):\n",
    "            return(self.q.full())\n",
    "\n",
    "#Methode qui empile les variables données 'item' dans la pile en cours si cette derniere contienne toujours de la place vide, dans le cas contraire la methode retourne 'la pile est pleine'\n",
    "    def enqueue(self, item):\n",
    "        if(self.isFull()==False):\n",
    "            return self.q.put(item)\n",
    "        else:\n",
    "            return print(\"Queue is full\")\n",
    "\n",
    "#Methode qui dempile les variables de la pile en cours si contienne au moins un element, dans le cas contraire la methode retourne 'la pile est vide'\n",
    "    def dequeue(self):\n",
    "        if(self.isEmpty()==False):\n",
    "            return self.q.get()\n",
    "        else:\n",
    "            return print(\"Queue is empty\")\n",
    "\n",
    "#Methode retourne la taille de la pile en cours\n",
    "    def size(self):\n",
    "        return self.q.qsize()\n",
    "    "
   ]
  },
  {
   "cell_type": "code",
   "execution_count": 91,
   "metadata": {},
   "outputs": [
    {
     "name": "stdout",
     "output_type": "stream",
     "text": [
      "Queue is full\n"
     ]
    }
   ],
   "source": [
    "p=LIFO(3)\n",
    "\n",
    "p.enqueue(22)\n",
    "p.enqueue(3)\n",
    "p.enqueue(22)\n",
    "p.enqueue(3)\n",
    "\n"
   ]
  },
  {
   "cell_type": "markdown",
   "metadata": {
    "id": "clwZBtONHUYh"
   },
   "source": [
    "## FIFO - First In First Out - Difficile (Bonus jusqu'à 5 points)\n",
    "\n",
    "Implanter une classe Fifo, soit une \"file\" dans lequel le dernier élément à y être placé et le dernier à sortir (cf https://fr.wikipedia.org/wiki/First_in,_first_out) et utilisant les listes comme structure de données interne. Elle doit hériter obligatoirement de Base comme pour la pile."
   ]
  },
  {
   "cell_type": "code",
   "execution_count": 89,
   "metadata": {},
   "outputs": [],
   "source": []
  },
  {
   "cell_type": "code",
   "execution_count": 88,
   "metadata": {},
   "outputs": [
    {
     "name": "stdout",
     "output_type": "stream",
     "text": [
      "Queue is full\n"
     ]
    }
   ],
   "source": []
  },
  {
   "cell_type": "code",
   "execution_count": null,
   "metadata": {},
   "outputs": [],
   "source": []
  }
 ],
 "metadata": {
  "colab": {
   "collapsed_sections": [],
   "name": "TP - POO.ipynb",
   "provenance": []
  },
  "kernelspec": {
   "display_name": "Python 3",
   "language": "python",
   "name": "python3"
  },
  "language_info": {
   "codemirror_mode": {
    "name": "ipython",
    "version": 3
   },
   "file_extension": ".py",
   "mimetype": "text/x-python",
   "name": "python",
   "nbconvert_exporter": "python",
   "pygments_lexer": "ipython3",
   "version": "3.8.5"
  }
 },
 "nbformat": 4,
 "nbformat_minor": 1
}
